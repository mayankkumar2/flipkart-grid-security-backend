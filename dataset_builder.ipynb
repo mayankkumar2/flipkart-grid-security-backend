{
  "nbformat": 4,
  "nbformat_minor": 0,
  "metadata": {
    "colab": {
      "name": "Untitled9.ipynb",
      "provenance": [],
      "collapsed_sections": []
    },
    "kernelspec": {
      "name": "python3",
      "display_name": "Python 3"
    },
    "language_info": {
      "name": "python"
    }
  },
  "cells": [
    {
      "cell_type": "code",
      "execution_count": null,
      "metadata": {
        "colab": {
          "base_uri": "https://localhost:8080/"
        },
        "id": "2g28RiCKQyyM",
        "outputId": "ed2b9e87-8edf-41a7-890c-89a85d9d4d48"
      },
      "outputs": [
        {
          "output_type": "stream",
          "name": "stdout",
          "text": [
            "Looking in indexes: https://pypi.org/simple, https://us-python.pkg.dev/colab-wheels/public/simple/\n",
            "Collecting PyGithub\n",
            "  Downloading PyGithub-1.55-py3-none-any.whl (291 kB)\n",
            "\u001b[K     |████████████████████████████████| 291 kB 5.2 MB/s \n",
            "\u001b[?25hCollecting pynacl>=1.4.0\n",
            "  Downloading PyNaCl-1.5.0-cp36-abi3-manylinux_2_17_x86_64.manylinux2014_x86_64.manylinux_2_24_x86_64.whl (856 kB)\n",
            "\u001b[K     |████████████████████████████████| 856 kB 39.9 MB/s \n",
            "\u001b[?25hRequirement already satisfied: requests>=2.14.0 in /usr/local/lib/python3.7/dist-packages (from PyGithub) (2.23.0)\n",
            "Collecting pyjwt>=2.0\n",
            "  Downloading PyJWT-2.4.0-py3-none-any.whl (18 kB)\n",
            "Collecting deprecated\n",
            "  Downloading Deprecated-1.2.13-py2.py3-none-any.whl (9.6 kB)\n",
            "Requirement already satisfied: cffi>=1.4.1 in /usr/local/lib/python3.7/dist-packages (from pynacl>=1.4.0->PyGithub) (1.15.1)\n",
            "Requirement already satisfied: pycparser in /usr/local/lib/python3.7/dist-packages (from cffi>=1.4.1->pynacl>=1.4.0->PyGithub) (2.21)\n",
            "Requirement already satisfied: chardet<4,>=3.0.2 in /usr/local/lib/python3.7/dist-packages (from requests>=2.14.0->PyGithub) (3.0.4)\n",
            "Requirement already satisfied: certifi>=2017.4.17 in /usr/local/lib/python3.7/dist-packages (from requests>=2.14.0->PyGithub) (2022.6.15)\n",
            "Requirement already satisfied: urllib3!=1.25.0,!=1.25.1,<1.26,>=1.21.1 in /usr/local/lib/python3.7/dist-packages (from requests>=2.14.0->PyGithub) (1.24.3)\n",
            "Requirement already satisfied: idna<3,>=2.5 in /usr/local/lib/python3.7/dist-packages (from requests>=2.14.0->PyGithub) (2.10)\n",
            "Requirement already satisfied: wrapt<2,>=1.10 in /usr/local/lib/python3.7/dist-packages (from deprecated->PyGithub) (1.14.1)\n",
            "Installing collected packages: pynacl, pyjwt, deprecated, PyGithub\n",
            "Successfully installed PyGithub-1.55 deprecated-1.2.13 pyjwt-2.4.0 pynacl-1.5.0\n"
          ]
        }
      ],
      "source": [
        "!pip install PyGithub"
      ]
    },
    {
      "cell_type": "code",
      "source": [
        "from github import Github\n",
        "import statistics "
      ],
      "metadata": {
        "id": "R0htla3JQ8sw"
      },
      "execution_count": null,
      "outputs": []
    },
    {
      "cell_type": "code",
      "source": [
        "g = Github(\"REDACTED\")"
      ],
      "metadata": {
        "id": "vy5c5rrwRJ8T"
      },
      "execution_count": null,
      "outputs": []
    },
    {
      "cell_type": "code",
      "source": [
        "repo = g.get_repo(\"PyGithub/PyGithub\")"
      ],
      "metadata": {
        "id": "064FKfhaRW4S"
      },
      "execution_count": null,
      "outputs": []
    },
    {
      "cell_type": "code",
      "source": [
        "count = 0\n",
        "for commit in repo.get_commits():\n",
        "  count += 1"
      ],
      "metadata": {
        "id": "uQd1VZsoRzF3"
      },
      "execution_count": null,
      "outputs": []
    },
    {
      "cell_type": "code",
      "source": [
        "print(count)"
      ],
      "metadata": {
        "colab": {
          "base_uri": "https://localhost:8080/"
        },
        "id": "tg72V5CHR9KU",
        "outputId": "ef4233b8-334b-4d52-b3e5-9bcc8a9892be"
      },
      "execution_count": null,
      "outputs": [
        {
          "output_type": "stream",
          "name": "stdout",
          "text": [
            "1993\n"
          ]
        }
      ]
    },
    {
      "cell_type": "code",
      "source": [
        "def user_popularity(user):\n",
        "  acc_stars = 0\n",
        "  for repo in user.get_repos():\n",
        "    if repo.fork:\n",
        "      continue\n",
        "    acc_stars += repo.stargazers_count\n",
        "  return acc_stars"
      ],
      "metadata": {
        "id": "bV2yB88ecg08"
      },
      "execution_count": null,
      "outputs": []
    },
    {
      "cell_type": "code",
      "source": [
        "contributor_count = 0\n",
        "commits_count = 0\n",
        "contributors_list = list()\n",
        "for act in repo.get_stats_contributors():\n",
        "  contributors_list.append((act.author, act.total))\n",
        "  commits_count += act.total\n",
        "  contributor_count += 1"
      ],
      "metadata": {
        "id": "Aqa_zFPVS9Ss"
      },
      "execution_count": null,
      "outputs": []
    },
    {
      "cell_type": "code",
      "source": [
        "contributor_count"
      ],
      "metadata": {
        "colab": {
          "base_uri": "https://localhost:8080/"
        },
        "id": "1IvjxcUGcc2p",
        "outputId": "94254e20-3654-4fc9-86c9-797876cf3797"
      },
      "execution_count": null,
      "outputs": [
        {
          "output_type": "execute_result",
          "data": {
            "text/plain": [
              "99"
            ]
          },
          "metadata": {},
          "execution_count": 50
        }
      ]
    },
    {
      "cell_type": "code",
      "source": [
        "repo.stargazers_count, repo.forks_count, repo.subscribers_count, repo.watchers_count"
      ],
      "metadata": {
        "colab": {
          "base_uri": "https://localhost:8080/"
        },
        "id": "gYq0y5I1g4KF",
        "outputId": "4a16cae8-539d-4d7a-81e3-abce3db3613b"
      },
      "execution_count": null,
      "outputs": [
        {
          "output_type": "execute_result",
          "data": {
            "text/plain": [
              "(5389, 1508, 112, 5389)"
            ]
          },
          "metadata": {},
          "execution_count": 35
        }
      ]
    },
    {
      "cell_type": "code",
      "source": [
        "commit_stats_activity = list()\n",
        "for act in repo.get_stats_commit_activity():\n",
        "  commit_stats_activity.append(act.total)"
      ],
      "metadata": {
        "id": "RrkN9GMblQRJ"
      },
      "execution_count": null,
      "outputs": []
    },
    {
      "cell_type": "code",
      "source": [
        "statistics.mean(commit_stats_activity)"
      ],
      "metadata": {
        "colab": {
          "base_uri": "https://localhost:8080/"
        },
        "id": "ZfxA3gdiLRsu",
        "outputId": "36099c12-4a47-4e27-8077-0b120a55fa79"
      },
      "execution_count": null,
      "outputs": [
        {
          "output_type": "execute_result",
          "data": {
            "text/plain": [
              "0.5"
            ]
          },
          "metadata": {},
          "execution_count": 46
        }
      ]
    },
    {
      "cell_type": "code",
      "source": [
        "statistics.stdev(commit_stats_activity)"
      ],
      "metadata": {
        "colab": {
          "base_uri": "https://localhost:8080/"
        },
        "id": "UNBPvmCmMEw1",
        "outputId": "a77234b3-2720-4053-e728-0e22e8f83f16"
      },
      "execution_count": null,
      "outputs": [
        {
          "output_type": "execute_result",
          "data": {
            "text/plain": [
              "2.2448197447177156"
            ]
          },
          "metadata": {},
          "execution_count": 47
        }
      ]
    },
    {
      "cell_type": "code",
      "source": [
        "popularity_index = 0\n",
        "for (user, user_contribution_count) in contributors_list:\n",
        "  user_popularity_stars = user_popularity(user)\n",
        "  popularity_index += (user_contribution_count/contributor_count) * (user_popularity_stars)\n",
        "  print(user, (user_contribution_count/contributor_count) * (user_popularity_stars), user_contribution_count, user_popularity_stars)"
      ],
      "metadata": {
        "colab": {
          "base_uri": "https://localhost:8080/"
        },
        "id": "0dBpwxFBMR2s",
        "outputId": "dd60fe00-3320-4315-fc8d-184ed501e895"
      },
      "execution_count": null,
      "outputs": [
        {
          "output_type": "stream",
          "name": "stdout",
          "text": [
            "NamedUser(login=\"majorvin\") 0.010101010101010102 1 1\n",
            "NamedUser(login=\"esemi\") 0.4646464646464647 2 23\n",
            "NamedUser(login=\"samamorgan\") 0.12121212121212122 1 12\n",
            "NamedUser(login=\"khornberg\") 6.080808080808081 2 301\n",
            "NamedUser(login=\"ssbarnea\") 1.1818181818181819 1 117\n",
            "NamedUser(login=\"zer0tonin\") 0.4545454545454546 3 15\n",
            "NamedUser(login=\"tradej\") 0.24242424242424243 2 12\n",
            "NamedUser(login=\"fukatani\") 7.1313131313131315 2 353\n",
            "NamedUser(login=\"mfonville\") 3.080808080808081 5 61\n",
            "NamedUser(login=\"dfarr\") 2.2424242424242427 3 74\n",
            "NamedUser(login=\"isouza-daitan\") 0.0 2 0\n",
            "NamedUser(login=\"tmshn\") 0.5656565656565657 2 28\n",
            "NamedUser(login=\"elfosardo\") 0.08080808080808081 2 4\n",
            "NamedUser(login=\"jsimpso\") 0.0 1 0\n",
            "NamedUser(login=\"danielquinn\") 7.353535353535354 2 364\n",
            "NamedUser(login=\"pascal-hofmann\") 0.0 2 0\n",
            "NamedUser(login=\"Ferada\") 3.6363636363636367 3 120\n",
            "NamedUser(login=\"dhruvmanila\") 2.666666666666667 2 132\n",
            "NamedUser(login=\"jzelinskie\") 80.2020202020202 10 794\n",
            "NamedUser(login=\"jacquerie\") 20.353535353535353 5 403\n",
            "NamedUser(login=\"dpocock\") 2.868686868686869 2 142\n",
            "NamedUser(login=\"rigaspapas\") 0.0 3 0\n",
            "NamedUser(login=\"dhruvkb\") 2.797979797979798 1 277\n",
            "NamedUser(login=\"xmo-odoo\") 0.0 1 0\n",
            "NamedUser(login=\"adambaratz\") 0.0 6 0\n",
            "NamedUser(login=\"lightningboltemoji\") 0.0 1 0\n",
            "NamedUser(login=\"MeggyCal\") 0.0 2 0\n",
            "NamedUser(login=\"karthik-kadajji\") 0.0 1 0\n",
            "NamedUser(login=\"larsks\") 23.171717171717173 1 2294\n",
            "NamedUser(login=\"vishalsodani\") 0.14141414141414144 2 7\n",
            "NamedUser(login=\"jacquev6\") 1011.6363636363637 936 107\n",
            "NamedUser(login=\"jwodder\") 4.171717171717172 1 413\n",
            "NamedUser(login=\"f1nality\") 0.12121212121212122 2 6\n",
            "NamedUser(login=\"nagapavan\") 0.020202020202020204 2 1\n",
            "NamedUser(login=\"ethanroy\") 0.0 3 0\n",
            "NamedUser(login=\"dependabot[bot]\") 0.0 2 0\n",
            "NamedUser(login=\"felixonmars\") 134.34343434343435 2 6650\n",
            "NamedUser(login=\"ewalker11\") 0.0 2 0\n",
            "NamedUser(login=\"s-t-e-v-e-n-k\") 0.0 186 0\n",
            "NamedUser(login=\"sshekdar-VMware\") 0.0 1 0\n",
            "NamedUser(login=\"FlorentClarret\") 0.20202020202020202 5 4\n",
            "NamedUser(login=\"MarcoFalke\") 1.6161616161616164 2 80\n",
            "NamedUser(login=\"johnsc1\") 0.0 1 0\n",
            "NamedUser(login=\"davidbrai\") 26.11111111111111 5 517\n",
            "NamedUser(login=\"jayfk\") 1166.181818181818 27 4276\n",
            "NamedUser(login=\"martinqt\") 0.18181818181818182 18 1\n",
            "NamedUser(login=\"jasonwhite\") 24.242424242424246 4 600\n",
            "NamedUser(login=\"zacker150\") 0.020202020202020204 2 1\n",
            "NamedUser(login=\"sfdye\") 89.0909090909091 98 90\n",
            "NamedUser(login=\"olmokramer\") 1.191919191919192 1 118\n",
            "NamedUser(login=\"marksweb\") 0.9797979797979799 1 97\n",
            "NamedUser(login=\"atakiya\") 0.020202020202020204 1 2\n",
            "NamedUser(login=\"Sylvus\") 0.12121212121212122 2 6\n",
            "NamedUser(login=\"sbesson\") 0.6060606060606061 4 15\n",
            "NamedUser(login=\"mstead\") 0.12121212121212122 2 6\n",
            "NamedUser(login=\"gshefer\") 0.12121212121212122 3 4\n",
            "NamedUser(login=\"mstuttgart\") 13.333333333333334 3 440\n",
            "NamedUser(login=\"dx-pbuckley\") 0.020202020202020204 2 1\n",
            "NamedUser(login=\"allevin\") 0.0 7 0\n",
            "NamedUser(login=\"mgorny\") 0.9090909090909092 2 45\n",
            "NamedUser(login=\"edhollandAL\") 0.0 2 0\n",
            "NamedUser(login=\"timgates42\") 1.0606060606060606 3 35\n",
            "NamedUser(login=\"peresypkinamarina\") 0.0 1 0\n",
            "NamedUser(login=\"Hanaasagi\") 3.3131313131313136 4 82\n",
            "NamedUser(login=\"enix223\") 6.565656565656566 10 65\n",
            "NamedUser(login=\"mattjmorrison\") 6.828282828282829 2 338\n",
            "NamedUser(login=\"mikeage\") 1.5151515151515151 3 50\n",
            "NamedUser(login=\"wrecker\") 0.20202020202020204 2 10\n",
            "NamedUser(login=\"nakato\") 0.0 3 0\n",
            "NamedUser(login=\"thialfihar\") 20.22222222222222 7 286\n",
            "NamedUser(login=\"LeviMatus\") 0.020202020202020204 2 1\n",
            "NamedUser(login=\"ilovechai\") 0.020202020202020204 1 2\n",
            "NamedUser(login=\"apahim\") 0.04040404040404041 2 2\n",
            "NamedUser(login=\"MarkRoddy\") 1.474747474747475 2 73\n",
            "NamedUser(login=\"xobb1t\") 0.5050505050505051 2 25\n",
            "NamedUser(login=\"jaredsmith\") 0.0 2 0\n",
            "NamedUser(login=\"ahhda\") 6.515151515151515 5 129\n",
            "NamedUser(login=\"fonz1\") 0.0 2 0\n",
            "NamedUser(login=\"sharkykh\") 2.0606060606060606 3 68\n",
            "NamedUser(login=\"silasary\") 0.24242424242424243 1 24\n",
            "NamedUser(login=\"christopher-dG\") 15.7979797979798 4 391\n",
            "NamedUser(login=\"res0nance\") 0.5252525252525253 4 13\n",
            "NamedUser(login=\"singh811\") 0.0 2 0\n",
            "NamedUser(login=\"dependabot-preview[bot]\") 0.0 2 0\n",
            "NamedUser(login=\"danvk\") 182.84848484848487 2 9051\n",
            "NamedUser(login=\"akfish\") 326.8787878787879 67 483\n",
            "NamedUser(login=\"fhightower\") 1.5656565656565657 1 155\n",
            "NamedUser(login=\"clouserw\") 1.292929292929293 2 64\n",
            "NamedUser(login=\"crwilcox\") 1.1313131313131315 2 56\n",
            "NamedUser(login=\"korfuri\") 106.16161616161617 2 5255\n",
            "NamedUser(login=\"jwilk\") 38.57575757575758 3 1273\n",
            "NamedUser(login=\"blatinier\") 5.0 3 165\n",
            "NamedUser(login=\"mickeydarrenlau\") 0.0 1 0\n",
            "NamedUser(login=\"karsten-wagner\") 0.0 3 0\n",
            "NamedUser(login=\"babineaum\") 0.06060606060606061 3 2\n",
            "NamedUser(login=\"huwcbjones\") 0.16161616161616163 4 4\n",
            "NamedUser(login=\"hugovk\") 44.00000000000001 4 1089\n",
            "NamedUser(login=\"cclauss\") 21.8989898989899 2 1084\n",
            "NamedUser(login=\"nhomar\") 0.2727272727272727 3 9\n"
          ]
        }
      ]
    },
    {
      "cell_type": "code",
      "source": [
        "popularity_index"
      ],
      "metadata": {
        "colab": {
          "base_uri": "https://localhost:8080/"
        },
        "id": "8zeYx447MhDt",
        "outputId": "69908ab5-135c-415f-f731-7241b25f6a9f"
      },
      "execution_count": null,
      "outputs": [
        {
          "output_type": "execute_result",
          "data": {
            "text/plain": [
              "3436.9696969696943"
            ]
          },
          "metadata": {},
          "execution_count": 52
        }
      ]
    },
    {
      "cell_type": "code",
      "source": [
        "open_issues_count = 0\n",
        "closed_issues_count = 0\n",
        "else_count = 0\n",
        "for issue in repo.get_issues(state='all'):\n",
        "  if issue.state == 'open':\n",
        "    open_issues_count += 1\n",
        "  elif issue.state == 'closed':\n",
        "    closed_issues_count += 1\n",
        "  else:\n",
        "    else_count += 1\n"
      ],
      "metadata": {
        "id": "hzDvYYNuPEdB"
      },
      "execution_count": null,
      "outputs": []
    },
    {
      "cell_type": "code",
      "source": [
        "open_issues_count, closed_issues_count, else_count"
      ],
      "metadata": {
        "colab": {
          "base_uri": "https://localhost:8080/"
        },
        "id": "g9yZ4E1iQJgm",
        "outputId": "4685b659-482e-419b-e167-d82add8d9c67"
      },
      "execution_count": null,
      "outputs": [
        {
          "output_type": "execute_result",
          "data": {
            "text/plain": [
              "(130, 2104, 0)"
            ]
          },
          "metadata": {},
          "execution_count": 62
        }
      ]
    },
    {
      "cell_type": "code",
      "source": [
        "all_pr_count = 0\n",
        "for pr in repo.get_pulls(state='all'):\n",
        "  all_pr_count += 1"
      ],
      "metadata": {
        "id": "Ld1vyYkMQ4aM"
      },
      "execution_count": null,
      "outputs": []
    },
    {
      "cell_type": "code",
      "source": [
        "all_pr_count"
      ],
      "metadata": {
        "colab": {
          "base_uri": "https://localhost:8080/"
        },
        "id": "zRalcBBwRrDw",
        "outputId": "e02e7384-2d8a-4707-b8ac-c6d2825867c0"
      },
      "execution_count": null,
      "outputs": [
        {
          "output_type": "execute_result",
          "data": {
            "text/plain": [
              "931"
            ]
          },
          "metadata": {},
          "execution_count": 67
        }
      ]
    },
    {
      "cell_type": "code",
      "source": [
        "from dataclasses import dataclass, asdict\n",
        "\n",
        "@dataclass\n",
        "class RepoStats:\n",
        "  no_of_contributors: int\n",
        "  weekly_activity_avg: float\n",
        "  weekly_activity_stdev: float\n",
        "  pr_count: int\n",
        "  fork_count: int\n",
        "  stargazers_count: int\n",
        "  subscribers_count: int\n",
        "  watchers_count: int\n",
        "  closed_issues_count: int\n",
        "  closed_to_open_issues_ratio: float\n",
        "  contributors_popularity: float\n",
        "  commits_count: int"
      ],
      "metadata": {
        "id": "UhTdliz1R3bj"
      },
      "execution_count": null,
      "outputs": []
    },
    {
      "cell_type": "code",
      "source": [
        "def calc_repo_stats(repo_name: str):\n",
        "  g = Github(\"REDACTED\")\n",
        "  repo = g.get_repo(repo_name)\n",
        "  def user_popularity(user):\n",
        "    acc_stars = 0\n",
        "    for repo in user.get_repos():\n",
        "      if repo.fork:\n",
        "        continue\n",
        "      acc_stars += repo.stargazers_count\n",
        "    return acc_stars\n",
        "  contributor_count = 0\n",
        "  commits_count = 0\n",
        "  contributors_list = list()\n",
        "  for act in repo.get_stats_contributors():\n",
        "    contributors_list.append((act.author, act.total))\n",
        "    commits_count += act.total\n",
        "    contributor_count += 1\n",
        "  \n",
        "  commit_stats_activity = list()\n",
        "  for act in repo.get_stats_commit_activity():\n",
        "    commit_stats_activity.append(act.total)\n",
        "  \n",
        "  repo.stargazers_count, repo.forks_count, repo.subscribers_count, repo.watchers_count\n",
        "  statistics.mean(commit_stats_activity)\n",
        "  statistics.stdev(commit_stats_activity)\n",
        "  popularity_index = 0\n",
        "\n",
        "  for (user, user_contribution_count) in contributors_list:\n",
        "    user_popularity_stars = user_popularity(user)\n",
        "    popularity_index += (user_contribution_count/commits_count) * (user_popularity_stars)\n",
        "    #print(user, (user_contribution_count/commits_count) * (user_popularity_stars), user_contribution_count, user_popularity_stars)\n",
        "\n",
        "  open_issues_count = 0\n",
        "  closed_issues_count = 0\n",
        "  else_count = 0\n",
        "  for issue in repo.get_issues(state='all'):\n",
        "    if issue.state == 'open':\n",
        "      open_issues_count += 1\n",
        "    elif issue.state == 'closed':\n",
        "      closed_issues_count += 1\n",
        "    else:\n",
        "      else_count += 1\n",
        "  all_pr_count = 0\n",
        "  for pr in repo.get_pulls(state='all'):\n",
        "    all_pr_count += 1\n",
        "\n",
        "  \n",
        "  return RepoStats(contributor_count, \n",
        "            statistics.mean(commit_stats_activity),\n",
        "            statistics.stdev(commit_stats_activity),\n",
        "            all_pr_count,\n",
        "            repo.forks_count,\n",
        "            repo.stargazers_count,\n",
        "            repo.subscribers_count,\n",
        "            repo.watchers_count,\n",
        "            closed_issues_count,\n",
        "            closed_issues_count/open_issues_count,\n",
        "            popularity_index,\n",
        "            commits_count)"
      ],
      "metadata": {
        "id": "GADr_JlmS-pw"
      },
      "execution_count": null,
      "outputs": []
    },
    {
      "cell_type": "code",
      "source": [
        "c = calc_repo_stats(\"googleapis/google-cloudevents-python\")"
      ],
      "metadata": {
        "colab": {
          "base_uri": "https://localhost:8080/"
        },
        "id": "X0H65qu5U5NF",
        "outputId": "85b7c844-5b70-4924-85cc-b860577977b8"
      },
      "execution_count": null,
      "outputs": [
        {
          "output_type": "stream",
          "name": "stdout",
          "text": [
            "NamedUser(login=\"nicain\") 0.5283018867924528 1 28\n",
            "NamedUser(login=\"busunkim96\") 0.03773584905660377 1 2\n",
            "NamedUser(login=\"yoshi-automation\") 1.3584905660377358 9 8\n",
            "NamedUser(login=\"parthea\") 0.9056603773584906 6 8\n",
            "NamedUser(login=\"dinagraves\") 0.05660377358490566 3 1\n",
            "NamedUser(login=\"renovate-bot\") 16.150943396226413 8 107\n",
            "NamedUser(login=\"JustinBeckwith\") 60.679245283018865 2 1608\n",
            "NamedUser(login=\"release-please[bot]\") 0.0 6 0\n",
            "NamedUser(login=\"google-cloud-policy-bot[bot]\") 0.0 1 0\n",
            "NamedUser(login=\"SurferJeffAtGoogle\") 0.11320754716981132 1 6\n",
            "NamedUser(login=\"gcf-owl-bot[bot]\") 0.0 8 0\n",
            "NamedUser(login=\"eclipselu\") 0.6226415094339622 1 33\n",
            "NamedUser(login=\"grant\") 43.41509433962264 3 767\n",
            "NamedUser(login=\"dandhlee\") 0.0 3 0\n"
          ]
        }
      ]
    },
    {
      "cell_type": "code",
      "source": [
        "f = open(\"list\", \"r\")\n",
        "lis = f.read()\n",
        "f.close()"
      ],
      "metadata": {
        "id": "NOKSEpcbVBez"
      },
      "execution_count": null,
      "outputs": []
    },
    {
      "cell_type": "code",
      "source": [
        "lis = lis.split(\"\\n\")"
      ],
      "metadata": {
        "id": "KtQfr6d6WIRx"
      },
      "execution_count": null,
      "outputs": []
    },
    {
      "cell_type": "code",
      "source": [
        "result = []"
      ],
      "metadata": {
        "id": "mDcWVN2nXBH7"
      },
      "execution_count": null,
      "outputs": []
    },
    {
      "cell_type": "code",
      "source": [
        "for item in lis:\n",
        "  print(\"starting for:\", item)\n",
        "  c = calc_repo_stats(item)\n",
        "  result.append(asdict(c))\n",
        "  print(\"complete for:\", item)"
      ],
      "metadata": {
        "id": "bDwW2xrXWyYn"
      },
      "execution_count": null,
      "outputs": []
    },
    {
      "cell_type": "code",
      "source": [
        "with open(\"app.json\", \"w\") as f:\n",
        "  f.write(json.dumps(result))"
      ],
      "metadata": {
        "id": "tS8wJ7FDfnd0"
      },
      "execution_count": null,
      "outputs": []
    },
    {
      "cell_type": "code",
      "source": [
        "import pandas as pd"
      ],
      "metadata": {
        "id": "bC-OJTdFfPy3"
      },
      "execution_count": null,
      "outputs": []
    },
    {
      "cell_type": "code",
      "source": [
        "data = pd.read_json(\"app.json\")"
      ],
      "metadata": {
        "id": "AnULeudcfiyy"
      },
      "execution_count": null,
      "outputs": []
    },
    {
      "cell_type": "code",
      "source": [
        "distance_matrix = pairwise_distances(data, np.zeros((1, 12)))\n",
        "max_dist = np.max(distance_matrix)"
      ],
      "metadata": {
        "id": "NTQC8QMTm06t"
      },
      "execution_count": null,
      "outputs": []
    },
    {
      "cell_type": "code",
      "source": [
        "test_val = calc_repo_stats(\"jonrau1/ElectricEye\")"
      ],
      "metadata": {
        "id": "UjndeavRgUH1"
      },
      "execution_count": null,
      "outputs": []
    },
    {
      "cell_type": "code",
      "source": [
        "test_val"
      ],
      "metadata": {
        "colab": {
          "base_uri": "https://localhost:8080/"
        },
        "id": "hXdS3xazgwo8",
        "outputId": "af53f664-cd19-486b-cef2-9d71b1b4fe36"
      },
      "execution_count": null,
      "outputs": [
        {
          "output_type": "execute_result",
          "data": {
            "text/plain": [
              "RepoStats(no_of_contributors=2, weekly_activity_avg=0, weekly_activity_stdev=0.0, pr_count=4, fork_count=2, stargazers_count=1, subscribers_count=2, watchers_count=1, closed_issues_count=3, closed_to_open_issues_ratio=3.0, contributors_popularity=14.5, commits_count=4)"
            ]
          },
          "metadata": {},
          "execution_count": 145
        }
      ]
    },
    {
      "cell_type": "code",
      "source": [
        "from dataclasses import astuple\n",
        "test_data = astuple(test_val)"
      ],
      "metadata": {
        "id": "QS5d-ZQkf1qQ"
      },
      "execution_count": null,
      "outputs": []
    },
    {
      "cell_type": "code",
      "source": [
        "from sklearn.metrics.pairwise import cosine_similarity, pairwise_distances\n",
        "import numpy as np"
      ],
      "metadata": {
        "id": "-nLNbHPKhCDb"
      },
      "execution_count": null,
      "outputs": []
    },
    {
      "cell_type": "code",
      "source": [
        "inp = np.array(test_data).reshape(1, -1)"
      ],
      "metadata": {
        "id": "LdxkuCfbmwac"
      },
      "execution_count": null,
      "outputs": []
    },
    {
      "cell_type": "code",
      "source": [
        "z = cosine_similarity(inp, data)\n",
        "np.max(z)"
      ],
      "metadata": {
        "colab": {
          "base_uri": "https://localhost:8080/"
        },
        "id": "RhnMEVwVhmxF",
        "outputId": "71f8ba91-02b3-47ab-8460-ff0fae8841ed"
      },
      "execution_count": null,
      "outputs": [
        {
          "output_type": "execute_result",
          "data": {
            "text/plain": [
              "0.8504862962556403"
            ]
          },
          "metadata": {},
          "execution_count": 199
        }
      ]
    },
    {
      "cell_type": "code",
      "source": [
        ""
      ],
      "metadata": {
        "id": "gEjj5KoatyXj"
      },
      "execution_count": null,
      "outputs": []
    }
  ]
}